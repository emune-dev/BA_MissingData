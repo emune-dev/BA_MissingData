{
 "cells": [
  {
   "cell_type": "markdown",
   "metadata": {},
   "source": [
    "# Parameter Estimation Workflow for conversion reaction"
   ]
  },
  {
   "cell_type": "code",
   "execution_count": 1,
   "metadata": {},
   "outputs": [],
   "source": [
    "import numpy as np\n",
    "import matplotlib.pyplot as plt\n",
    "import seaborn as sns\n",
    "import pandas as pd\n",
    "import tensorflow as tf\n",
    "from tensorflow.keras.layers import LSTM\n",
    "from scipy.stats import norm\n",
    "from scipy.integrate import solve_ivp, dblquad\n",
    "import random\n",
    "\n",
    "from bayesflow.networks import InvertibleNetwork\n",
    "from bayesflow.amortizers import SingleModelAmortizer\n",
    "from bayesflow.trainers import ParameterEstimationTrainer\n",
    "from bayesflow.diagnostics import *\n",
    "from bayesflow.error_metrics import *\n",
    "from bayesflow.models import GenerativeModel"
   ]
  },
  {
   "cell_type": "code",
   "execution_count": 2,
   "metadata": {},
   "outputs": [],
   "source": [
    "%load_ext autoreload\n",
    "%autoreload 2"
   ]
  },
  {
   "cell_type": "markdown",
   "metadata": {},
   "source": [
    "## Simulator settings"
   ]
  },
  {
   "cell_type": "code",
   "execution_count": 3,
   "metadata": {
    "code_folding": [
     23,
     42,
     52
    ]
   },
   "outputs": [],
   "source": [
    "def prior(batch_size):\n",
    "    \"\"\"\n",
    "    Samples from the prior 'batch_size' times.\n",
    "    ----------\n",
    "    Output:\n",
    "    theta : np.ndarray of shape (batch_size, theta_dim) \n",
    "    \"\"\"    \n",
    "    # Prior range for log-parameters: k_1, k_2 ~ N(-0.75, 0.25²) iid.\n",
    "    p_samples = np.random.normal(-0.75, 0.25, size=(batch_size, 2))\n",
    "    return p_samples.astype(np.float32)\n",
    "\n",
    "\n",
    "# ODE model for conversion reaction    \n",
    "def conversion_reaction(t, x, theta):\n",
    "    theta = 10**theta\n",
    "    return np.array([-theta[0]*x[0]+theta[1]*x[1], theta[0]*x[0]-theta[1]*x[1]])\n",
    "\n",
    "x0 = [1,0]   # initial condition       \n",
    "sigma = 0.015   # noise standard deviation\n",
    "n_obs = 11\n",
    "time_points = np.linspace(0, 10, n_obs)\n",
    "missing_max = 6\n",
    "\n",
    "\n",
    "def batch_simulator_augment01(prior_samples, n_obs):\n",
    "    \"\"\"\n",
    "    Simulate multiple conversion model datasets with missing values and augmentation by zeros/ones\n",
    "    \"\"\"   \n",
    "    n_sim = prior_samples.shape[0]   # batch size \n",
    "    sim_data = np.ones((n_sim, n_obs, 2), dtype=np.float32)   # 1 batch consisting of n_sim datasets, each with n_obs observations\n",
    "    n_missing = np.random.randint(0, missing_max+1, size=n_sim)\n",
    "    \n",
    "    for m in range(n_sim):\n",
    "        theta = 10**prior_samples[m]\n",
    "        s = theta[0] + theta[1]\n",
    "        b = theta[0]/s\n",
    "        state_2 = lambda t: b - b * np.exp(-s*t)\n",
    "        sol = state_2(time_points)\n",
    "        sim_data[m, :, 0] = sol + np.random.normal(0, sigma, size = n_obs)   # observable: y = x_2 + N(0,sigma²) \n",
    "        \n",
    "        # artificially induce missing data\n",
    "        missing_indices = random.sample(range(n_obs), n_missing[m])\n",
    "        sim_data[m][missing_indices] = np.array([-1.0, 0.0])  \n",
    "        \n",
    "    return sim_data   \n",
    "\n",
    "\n",
    "def batch_simulator_insert(prior_samples, n_obs):\n",
    "    \"\"\"\n",
    "    Simulate multiple conversion model datasets with missing values and insert -1\n",
    "    \"\"\"   \n",
    "    n_sim = prior_samples.shape[0]   # batch size \n",
    "    sim_data = np.ones((n_sim, n_obs, 1), dtype=np.float32)   # 1 batch consisting of n_sim datasets, each with n_obs observations\n",
    "    n_missing = np.random.randint(0, missing_max+1, size=n_sim)\n",
    "    \n",
    "    for m in range(n_sim):\n",
    "        theta = 10**prior_samples[m]\n",
    "        s = theta[0] + theta[1]\n",
    "        b = theta[0]/s\n",
    "        state_2 = lambda t: b - b * np.exp(-s*t)\n",
    "        sol = state_2(time_points)\n",
    "        sim_data[m, :, 0] = sol + np.random.normal(0, sigma, size = n_obs)   # observable: y = x_2 + N(0,sigma²) \n",
    "        \n",
    "        # artificially induce missing data\n",
    "        missing_indices = random.sample(range(n_obs), n_missing[m])\n",
    "        sim_data[m][missing_indices] = np.array([-1.0])   \n",
    "        \n",
    "    return sim_data \n",
    "\n",
    "\n",
    "def batch_simulator_timepoints(prior_samples, n_obs):\n",
    "    \"\"\"\n",
    "    Simulate multiple conversion model datasets with missing values and time labels (present time points)\n",
    "    \"\"\"   \n",
    "    n_sim = prior_samples.shape[0]   # batch size \n",
    "    n_missing = np.random.randint(0, missing_max+1)\n",
    "    n_present = n_obs - n_missing\n",
    "    sim_data = np.empty((n_sim, n_present, 2), dtype=np.float32)   # 1 batch consisting of n_sim datasets, each with n_present observations\n",
    "    \n",
    "    for m in range(n_sim):\n",
    "        theta = 10**prior_samples[m]\n",
    "        s = theta[0] + theta[1]\n",
    "        b = theta[0]/s\n",
    "        state_2 = lambda t: b - b * np.exp(-s*t)\n",
    "        \n",
    "        # artificially induce missing data \n",
    "        missing_indices = random.sample(range(n_obs), n_missing)\n",
    "        present_indices = np.setdiff1d(range(n_obs), missing_indices)\n",
    "        present_timepoints = time_points[present_indices]\n",
    "        sol = state_2(present_timepoints)\n",
    "        sim_data[m, :, 0] = sol + np.random.normal(0, sigma, size = n_present)   # observable: y = x_2 + N(0,sigma²)\n",
    "        sim_data[m, :, 1] = present_timepoints   # time labels\n",
    "        \n",
    "    return sim_data "
   ]
  },
  {
   "cell_type": "markdown",
   "metadata": {},
   "source": [
    "We build an amortized parameter estimation network."
   ]
  },
  {
   "cell_type": "code",
   "execution_count": 4,
   "metadata": {},
   "outputs": [],
   "source": [
    "bf_meta = {\n",
    "    'n_coupling_layers': 5,\n",
    "    's_args': {\n",
    "        'units': [64, 64, 64],\n",
    "        'activation': 'elu',\n",
    "        'initializer': 'glorot_uniform',\n",
    "    },\n",
    "    't_args': {\n",
    "        'units': [64, 64, 64],\n",
    "        'activation': 'elu',\n",
    "        'initializer': 'glorot_uniform',\n",
    "    },\n",
    "    'n_params': 2\n",
    "}"
   ]
  },
  {
   "cell_type": "markdown",
   "metadata": {},
   "source": [
    "## Computational faithfulness"
   ]
  },
  {
   "cell_type": "code",
   "execution_count": 5,
   "metadata": {},
   "outputs": [],
   "source": [
    "true_params = prior(500) \n",
    "x_augment01 = batch_simulator_augment01(true_params, n_obs).astype(np.float32)"
   ]
  },
  {
   "cell_type": "code",
   "execution_count": 6,
   "metadata": {},
   "outputs": [
    {
     "name": "stdout",
     "output_type": "stream",
     "text": [
      "TRAINER INITIALIZATION: No generative model provided. Only offline learning mode is available!\n",
      "Networks loaded from ./CR11_augment01_5ACB_[64,64,64]_LSTM(32)_ckpts\\ckpt-300\n",
      "NRMSE(k_1): 0.026 ± 0.002\n",
      "NRMSE(k_2): 0.048 ± 0.004\n",
      "R²(k_1): 0.977 ± 0.004\n",
      "R²(k_2): 0.927 ± 0.009\n"
     ]
    }
   ],
   "source": [
    "# Augment01\n",
    "summary_net = LSTM(32)\n",
    "inference_net = InvertibleNetwork(bf_meta)\n",
    "amortizer = SingleModelAmortizer(inference_net, summary_net)\n",
    "trainer = ParameterEstimationTrainer(network=amortizer, checkpoint_path='./CR11_augment01_5ACB_[64,64,64]_LSTM(32)_ckpts', skip_checks=True)\n",
    "\n",
    "# BayesFlow samples from the learned posterior\n",
    "param_samples_augment01 = amortizer.sample(x_augment01, n_samples=1000)\n",
    "v_augment01 = bootstrap_metrics(np.swapaxes(param_samples_augment01, 0, 1), true_params)\n",
    "a1 = display_metrics(v_augment01)"
   ]
  },
  {
   "cell_type": "code",
   "execution_count": 7,
   "metadata": {},
   "outputs": [
    {
     "name": "stdout",
     "output_type": "stream",
     "text": [
      "TRAINER INITIALIZATION: No generative model provided. Only offline learning mode is available!\n",
      "Networks loaded from ./CR11_insert-1_5ACB_[64,64,64]_LSTM(32)_ckpts\\ckpt-300\n",
      "WARNING:tensorflow:Detecting that an object or model or tf.train.Checkpoint is being deleted with unrestored values. See the following logs for the specific values in question. To silence these warnings, use `status.expect_partial()`. See https://www.tensorflow.org/api_docs/python/tf/train/Checkpoint#restorefor details about the status object returned by the restore function.\n",
      "WARNING:tensorflow:Value in checkpoint could not be found in the restored object: (root).optimizer.iter\n",
      "WARNING:tensorflow:Value in checkpoint could not be found in the restored object: (root).optimizer.beta_1\n",
      "WARNING:tensorflow:Value in checkpoint could not be found in the restored object: (root).optimizer.beta_2\n",
      "WARNING:tensorflow:Value in checkpoint could not be found in the restored object: (root).optimizer.decay\n",
      "NRMSE(k_1): 0.025 ± 0.002\n",
      "NRMSE(k_2): 0.048 ± 0.004\n",
      "R²(k_1): 0.978 ± 0.003\n",
      "R²(k_2): 0.926 ± 0.008\n"
     ]
    }
   ],
   "source": [
    "# Insert-1\n",
    "summary_net = LSTM(32)\n",
    "inference_net = InvertibleNetwork(bf_meta)\n",
    "amortizer = SingleModelAmortizer(inference_net, summary_net)\n",
    "trainer = ParameterEstimationTrainer(network=amortizer, checkpoint_path='./CR11_insert-1_5ACB_[64,64,64]_LSTM(32)_ckpts', skip_checks=True)\n",
    "\n",
    "# BayesFlow samples from the learned posterior\n",
    "x_insert = np.ones((500, n_obs, 1), dtype=np.float32)\n",
    "for m in range(500):\n",
    "    x_insert[m, :, 0] = x_augment01[m, :, 0]\n",
    "param_samples_insert = amortizer.sample(x_insert, n_samples=1000)\n",
    "v_insert = bootstrap_metrics(np.swapaxes(param_samples_insert, 0, 1), true_params)\n",
    "a2 = display_metrics(v_insert)"
   ]
  },
  {
   "cell_type": "code",
   "execution_count": 8,
   "metadata": {},
   "outputs": [
    {
     "name": "stdout",
     "output_type": "stream",
     "text": [
      "TRAINER INITIALIZATION: No generative model provided. Only offline learning mode is available!\n",
      "Networks loaded from ./CR11_timepoints_5ACB_[64,64,64]_LSTM(32)_ckpts\\ckpt-300\n",
      "WARNING:tensorflow:Detecting that an object or model or tf.train.Checkpoint is being deleted with unrestored values. See the following logs for the specific values in question. To silence these warnings, use `status.expect_partial()`. See https://www.tensorflow.org/api_docs/python/tf/train/Checkpoint#restorefor details about the status object returned by the restore function.\n",
      "WARNING:tensorflow:Value in checkpoint could not be found in the restored object: (root).optimizer.iter\n",
      "WARNING:tensorflow:Value in checkpoint could not be found in the restored object: (root).optimizer.beta_1\n",
      "WARNING:tensorflow:Value in checkpoint could not be found in the restored object: (root).optimizer.beta_2\n",
      "WARNING:tensorflow:Value in checkpoint could not be found in the restored object: (root).optimizer.decay\n",
      "NRMSE(k_1): 0.025 ± 0.002\n",
      "NRMSE(k_2): 0.048 ± 0.005\n",
      "R²(k_1): 0.979 ± 0.003\n",
      "R²(k_2): 0.925 ± 0.009\n"
     ]
    }
   ],
   "source": [
    "# Timepoints\n",
    "summary_net = LSTM(32)\n",
    "inference_net = InvertibleNetwork(bf_meta)\n",
    "amortizer = SingleModelAmortizer(inference_net, summary_net)\n",
    "trainer = ParameterEstimationTrainer(network=amortizer, checkpoint_path='./CR11_timepoints_5ACB_[64,64,64]_LSTM(32)_ckpts', skip_checks=True)\n",
    "# BayesFlow samples from the learned posterior\n",
    "param_samples_timepoints = np.empty((500, 1000, 2), dtype=np.float32)\n",
    "for m in range(500):\n",
    "    x = x_augment01[m, :, 1]\n",
    "    present_indices = np.where(x == 1.)[0]\n",
    "    x_timepoints = np.empty((1, len(present_indices), 2), dtype=np.float32)\n",
    "    x_timepoints[0, :, 0] = x_augment01[m, present_indices, 0]\n",
    "    x_timepoints[0, :, 1] = time_points[present_indices]\n",
    "    param_samples_timepoints[m] = amortizer.sample(x_timepoints, n_samples=1000)\n",
    "v_timepoints = bootstrap_metrics(np.swapaxes(param_samples_timepoints, 0, 1), true_params)\n",
    "a3 = display_metrics(v_timepoints)"
   ]
  },
  {
   "cell_type": "code",
   "execution_count": 30,
   "metadata": {},
   "outputs": [
    {
     "data": {
      "image/png": "[encoded data removed]",
      "text/plain": [
       "<Figure size 1440x360 with 6 Axes>"
      ]
     },
     "metadata": {
      "needs_background": "light"
     },
     "output_type": "display_data"
    }
   ],
   "source": [
    "fig, ax = plt.subplots(1, 6, figsize=(20, 5))\n",
    "plt.rcParams['font.size'] = 15\n",
    "\n",
    "bar_chart(ax, np.array([-6.401, -6.391, -6.429]), 0, 'KL loss', y_lim=np.array([-6.45, -6.35]))\n",
    "bar_chart(ax, np.array([a1[0,0], a2[0,0], a3[0,0]]), 1, 'NRMSE$(k_1)$', \n",
    "          se=np.array([a1[1,0], a2[1,0], a3[1,0]]), y_lim=np.array([0.0155, 0.029]))\n",
    "bar_chart(ax, np.array([a1[0,1], a2[0,1], a3[0,1]]), 2, 'NRMSE$(k_2)$', \n",
    "          se=np.array([a1[1,1], a2[1,1], a3[1,1]]), y_lim=np.array([0.030, 0.055]))\n",
    "bar_chart(ax, np.array([a1[0,2], a2[0,2], a3[0,2]]), 3, '$R^2(k_1)$', \n",
    "          se=np.array([a1[1,2], a2[1,2], a3[1,2]]), \n",
    "          y_lim=np.array([0.963, 0.984]), y_ticks=np.array([0.965, 0.970, 0.975, 0.980]))\n",
    "bar_chart(ax, np.array([a1[0,3], a2[0,3], a3[0,3]]), 4, '$R^2(k_2)$', \n",
    "          se=np.array([a1[1,3], a2[1,3], a3[1,3]]), \n",
    "          y_lim=np.array([0.895, 0.94]), y_ticks=np.array([0.90, 0.91, 0.92, 0.93, 0.94]))\n",
    "bar_chart(ax, np.array([8+6/60, 8+11/60, 8+7/60]), 5, 'Training time (h)', \n",
    "          y_lim=np.array([6.5,8.75]), y_ticks=np.array([6.5, 7.0, 7.5, 8.0, 8.5]))\n",
    "\n",
    "for axes in ax: \n",
    "    handles, labels = axes.get_legend_handles_labels()\n",
    "fig.legend(handles, labels, loc='lower center', bbox_to_anchor=(0.5,-0.11), ncol=4, fontsize=21)\n",
    "plt.tight_layout()\n",
    "plt.show()\n",
    "fig.savefig(\"figures/{}_bar_chart.png\".format('CR11_missing'), dpi=600, bbox_inches='tight')"
   ]
  }
 ],
 "metadata": {
  "kernelspec": {
   "display_name": "Python 3",
   "language": "python",
   "name": "python3"
  },
  "language_info": {
   "codemirror_mode": {
    "name": "ipython",
    "version": 3
   },
   "file_extension": ".py",
   "mimetype": "text/x-python",
   "name": "python",
   "nbconvert_exporter": "python",
   "pygments_lexer": "ipython3",
   "version": "3.7.6"
  },
  "toc": {
   "base_numbering": 1,
   "nav_menu": {},
   "number_sections": true,
   "sideBar": true,
   "skip_h1_title": false,
   "title_cell": "Table of Contents",
   "title_sidebar": "Contents",
   "toc_cell": false,
   "toc_position": {
    "height": "calc(100% - 180px)",
    "left": "10px",
    "top": "150px",
    "width": "307.2px"
   },
   "toc_section_display": true,
   "toc_window_display": true
  }
 },
 "nbformat": 4,
 "nbformat_minor": 2
}
